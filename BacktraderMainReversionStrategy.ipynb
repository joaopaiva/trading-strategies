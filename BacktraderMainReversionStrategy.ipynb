{
  "nbformat": 4,
  "nbformat_minor": 0,
  "metadata": {
    "colab": {
      "provenance": [],
      "authorship_tag": "ABX9TyNz7yx+Li1X0P7vuuCFAHun",
      "include_colab_link": true
    },
    "kernelspec": {
      "name": "python3",
      "display_name": "Python 3"
    },
    "language_info": {
      "name": "python"
    }
  },
  "cells": [
    {
      "cell_type": "markdown",
      "metadata": {
        "id": "view-in-github",
        "colab_type": "text"
      },
      "source": [
        "<a href=\"https://colab.research.google.com/github/joaopaiva/trading-strategies/blob/main/BacktraderMainReversionStrategy.ipynb\" target=\"_parent\"><img src=\"https://colab.research.google.com/assets/colab-badge.svg\" alt=\"Open In Colab\"/></a>"
      ]
    },
    {
      "cell_type": "code",
      "source": [
        "# suppress output\n",
        "%%capture\n",
        "!pip install yfinance pandas_ta"
      ],
      "metadata": {
        "id": "17-ncvNxHpdS"
      },
      "execution_count": 40,
      "outputs": []
    },
    {
      "cell_type": "code",
      "execution_count": 43,
      "metadata": {
        "id": "G8eVgRrbCNlA"
      },
      "outputs": [],
      "source": [
        "import numpy as np\n",
        "import yfinance as yf\n",
        "from datetime import datetime, date, time, timedelta\n",
        "import pandas as pd\n",
        "import pandas_ta as ta\n",
        "# import pandas_datareader.data as web\n",
        "import matplotlib.pyplot as plt\n",
        "from datetime import date\n",
        "\n",
        "plt.style.use('fivethirtyeight')\n",
        "yf.pdr_override()\n",
        "\n",
        "# Define the ticker symbol and start and end dates\n",
        "stocksymbols = ['BNB-USD']\n",
        "# start_date = '2022-01-01'\n",
        "# end_date = '2022-02-18'\n",
        "start_date = datetime.today() - timedelta(days=6)\n",
        "start_date = start_date.strftime(\"%Y-%m-%d\")\n",
        "end_date = datetime.today()\n"
      ]
    },
    {
      "cell_type": "code",
      "source": [
        "def getHistoricalData(stocks = stocksymbols ,start = start_date , end = end_date):\n",
        "    # Get the data for the ticker\n",
        "    ticker_data = yf.Ticker(stocksymbols[0])\n",
        "\n",
        "    # Get the historical prices for the ticker\n",
        "    data = ticker_data.history(start=start_date, end=end_date, interval='15m')\n",
        "\n",
        "    # data = web.get_data_yahoo(stocks , data_source='yahoo' , start = start ,end= end )\n",
        "    return data\n",
        "\n",
        "historical_data = getHistoricalData(stocksymbols)\n",
        "\n",
        "# Calculate the rolling mean and standard deviation\n",
        "rolling_mean = historical_data['Close'].rolling(window=30).mean()\n",
        "rolling_std = historical_data['Close'].rolling(window=30).std()\n",
        "\n",
        "# Calculate the upper and lower Bollinger Bands\n",
        "upper_band = rolling_mean + (2 * rolling_std)\n",
        "lower_band = rolling_mean - (2 * rolling_std)\n",
        "\n",
        "# Identify when the price crosses the bands\n",
        "historical_data['buy_signal'] = (historical_data['Close'] < lower_band)\n",
        "historical_data['sell_signal'] = (historical_data['Close'] > upper_band)\n",
        "\n",
        "# Take positions based on the signals\n",
        "positions = pd.Series(0, index=historical_data.index)\n",
        "positions[historical_data['buy_signal']] = 1\n",
        "positions[historical_data['sell_signal']] = -1\n",
        "\n",
        "# Calculate returns\n",
        "historical_data['returns'] = positions.shift(1) * (historical_data['Close'] - historical_data['Close'].shift(1))\n",
        "\n",
        "# Calculate cumulative returns\n",
        "historical_data['cumulative_returns'] = historical_data['returns'].cumsum()\n",
        "\n",
        "# print(historical_data)"
      ],
      "metadata": {
        "id": "aH0RoIQfOLon"
      },
      "execution_count": 45,
      "outputs": []
    },
    {
      "cell_type": "code",
      "source": [
        "historical_data['SMA 30'] = ta.sma(historical_data['Close'],30)\n",
        "historical_data['SMA 100'] = ta.sma(historical_data['Close'],100)\n",
        "#SMA BUY SELL\n",
        "#Function for buy and sell signal\n",
        "def buy_sell(historical_data):\n",
        "    signalBuy = []\n",
        "    signalSell = []\n",
        "    position = False \n",
        "\n",
        "    for i in range(len(historical_data)):\n",
        "        # print(historical_data)\n",
        "        if historical_data['SMA 30'][i] > historical_data['SMA 100'][i]:\n",
        "            if position == False :\n",
        "                signalBuy.append(historical_data['Close'][i])\n",
        "                signalSell.append(False)\n",
        "                position = True\n",
        "            else:\n",
        "                signalBuy.append(False)\n",
        "                signalSell.append(False)\n",
        "        elif historical_data['SMA 30'][i] < historical_data['SMA 100'][i]:\n",
        "            if position == True:\n",
        "                signalBuy.append(False)\n",
        "                signalSell.append(historical_data['Close'][i])\n",
        "                position = False\n",
        "            else:\n",
        "                signalBuy.append(False)\n",
        "                signalSell.append(False)\n",
        "        else:\n",
        "            signalBuy.append(False)\n",
        "            signalSell.append(False)\n",
        "    return pd.Series([signalBuy, signalSell])"
      ],
      "metadata": {
        "id": "Uj5ghb-uKi-Z"
      },
      "execution_count": 55,
      "outputs": []
    },
    {
      "cell_type": "code",
      "source": [
        "historical_data"
      ],
      "metadata": {
        "id": "-2gUu-l8Nyrk"
      },
      "execution_count": null,
      "outputs": []
    },
    {
      "cell_type": "code",
      "source": [
        "# historical_data\n",
        "historical_data.reset_index(inplace = True,drop = True)\n",
        "buy_sell(historical_data)\n",
        "historical_data['Buy_Signal_price'], historical_data['Sell_Signal_price'] = buy_sell(historical_data)\n",
        "historical_data"
      ],
      "metadata": {
        "id": "2QLzGcqkMlXw",
        "outputId": "52c99355-e8a4-4e09-93e9-7586eb5c12b5",
        "colab": {
          "base_uri": "https://localhost:8080/",
          "height": 1000
        }
      },
      "execution_count": 56,
      "outputs": [
        {
          "output_type": "stream",
          "name": "stdout",
          "text": [
            "           Open        High         Low       Close   Volume  Dividends  \\\n",
            "0    310.605621  310.717316  310.186646  310.310669    64416        0.0   \n",
            "1    310.313782  310.313782  310.169800  310.224762    23168        0.0   \n",
            "2    310.214294  310.214294  309.390167  309.399139        0        0.0   \n",
            "3    309.422302  309.452972  309.333984  309.421844   137344        0.0   \n",
            "4    309.429382  309.585846  309.428680  309.585846        0        0.0   \n",
            "..          ...         ...         ...         ...      ...        ...   \n",
            "622  313.953339  314.637299  313.953339  314.619965  2258560        0.0   \n",
            "623  314.602966  314.635864  314.594513  314.606476   280640        0.0   \n",
            "624  314.661407  315.549561  314.568115  315.549561  1884544        0.0   \n",
            "625  315.666229  315.931824  315.635376  315.911682  1405632        0.0   \n",
            "626  316.149902  316.149902  315.891968  315.891968   432256        0.0   \n",
            "\n",
            "     Stock Splits  buy_signal  sell_signal   returns  cumulative_returns  \\\n",
            "0             0.0       False        False       NaN                 NaN   \n",
            "1             0.0       False        False -0.000000            0.000000   \n",
            "2             0.0       False        False -0.000000            0.000000   \n",
            "3             0.0       False        False  0.000000            0.000000   \n",
            "4             0.0       False        False  0.000000            0.000000   \n",
            "..            ...         ...          ...       ...                 ...   \n",
            "622           0.0       False        False  0.789307          -21.440002   \n",
            "623           0.0       False        False -0.000000          -21.440002   \n",
            "624           0.0       False        False  0.000000          -21.440002   \n",
            "625           0.0       False        False  0.000000          -21.440002   \n",
            "626           0.0       False        False -0.000000          -21.440002   \n",
            "\n",
            "         SMA 30     SMA 100  \n",
            "0           NaN         NaN  \n",
            "1           NaN         NaN  \n",
            "2           NaN         NaN  \n",
            "3           NaN         NaN  \n",
            "4           NaN         NaN  \n",
            "..          ...         ...  \n",
            "622  316.363976  313.703188  \n",
            "623  316.339626  313.754357  \n",
            "624  316.318660  313.809960  \n",
            "625  316.312783  313.866141  \n",
            "626  316.290835  313.922020  \n",
            "\n",
            "[627 rows x 13 columns]\n"
          ]
        },
        {
          "output_type": "error",
          "ename": "KeyError",
          "evalue": "ignored",
          "traceback": [
            "\u001b[0;31m---------------------------------------------------------------------------\u001b[0m",
            "\u001b[0;31mKeyError\u001b[0m                                  Traceback (most recent call last)",
            "\u001b[0;32m/usr/local/lib/python3.8/dist-packages/pandas/core/indexes/base.py\u001b[0m in \u001b[0;36mget_loc\u001b[0;34m(self, key, method, tolerance)\u001b[0m\n\u001b[1;32m   3360\u001b[0m             \u001b[0;32mtry\u001b[0m\u001b[0;34m:\u001b[0m\u001b[0;34m\u001b[0m\u001b[0;34m\u001b[0m\u001b[0m\n\u001b[0;32m-> 3361\u001b[0;31m                 \u001b[0;32mreturn\u001b[0m \u001b[0mself\u001b[0m\u001b[0;34m.\u001b[0m\u001b[0m_engine\u001b[0m\u001b[0;34m.\u001b[0m\u001b[0mget_loc\u001b[0m\u001b[0;34m(\u001b[0m\u001b[0mcasted_key\u001b[0m\u001b[0;34m)\u001b[0m\u001b[0;34m\u001b[0m\u001b[0;34m\u001b[0m\u001b[0m\n\u001b[0m\u001b[1;32m   3362\u001b[0m             \u001b[0;32mexcept\u001b[0m \u001b[0mKeyError\u001b[0m \u001b[0;32mas\u001b[0m \u001b[0merr\u001b[0m\u001b[0;34m:\u001b[0m\u001b[0;34m\u001b[0m\u001b[0;34m\u001b[0m\u001b[0m\n",
            "\u001b[0;32m/usr/local/lib/python3.8/dist-packages/pandas/_libs/index.pyx\u001b[0m in \u001b[0;36mpandas._libs.index.IndexEngine.get_loc\u001b[0;34m()\u001b[0m\n",
            "\u001b[0;32m/usr/local/lib/python3.8/dist-packages/pandas/_libs/index.pyx\u001b[0m in \u001b[0;36mpandas._libs.index.IndexEngine.get_loc\u001b[0;34m()\u001b[0m\n",
            "\u001b[0;32mpandas/_libs/hashtable_class_helper.pxi\u001b[0m in \u001b[0;36mpandas._libs.hashtable.PyObjectHashTable.get_item\u001b[0;34m()\u001b[0m\n",
            "\u001b[0;32mpandas/_libs/hashtable_class_helper.pxi\u001b[0m in \u001b[0;36mpandas._libs.hashtable.PyObjectHashTable.get_item\u001b[0;34m()\u001b[0m\n",
            "\u001b[0;31mKeyError\u001b[0m: 'Adj Close'",
            "\nThe above exception was the direct cause of the following exception:\n",
            "\u001b[0;31mKeyError\u001b[0m                                  Traceback (most recent call last)",
            "\u001b[0;32m<ipython-input-56-e594ec98c72f>\u001b[0m in \u001b[0;36m<module>\u001b[0;34m\u001b[0m\n\u001b[1;32m      1\u001b[0m \u001b[0;31m# historical_data\u001b[0m\u001b[0;34m\u001b[0m\u001b[0;34m\u001b[0m\u001b[0;34m\u001b[0m\u001b[0m\n\u001b[1;32m      2\u001b[0m \u001b[0mhistorical_data\u001b[0m\u001b[0;34m.\u001b[0m\u001b[0mreset_index\u001b[0m\u001b[0;34m(\u001b[0m\u001b[0minplace\u001b[0m \u001b[0;34m=\u001b[0m \u001b[0;32mTrue\u001b[0m\u001b[0;34m,\u001b[0m\u001b[0mdrop\u001b[0m \u001b[0;34m=\u001b[0m \u001b[0;32mTrue\u001b[0m\u001b[0;34m)\u001b[0m\u001b[0;34m\u001b[0m\u001b[0;34m\u001b[0m\u001b[0m\n\u001b[0;32m----> 3\u001b[0;31m \u001b[0mbuy_sell\u001b[0m\u001b[0;34m(\u001b[0m\u001b[0mhistorical_data\u001b[0m\u001b[0;34m)\u001b[0m\u001b[0;34m\u001b[0m\u001b[0;34m\u001b[0m\u001b[0m\n\u001b[0m\u001b[1;32m      4\u001b[0m \u001b[0mhistorical_data\u001b[0m\u001b[0;34m[\u001b[0m\u001b[0;34m'Buy_Signal_price'\u001b[0m\u001b[0;34m]\u001b[0m\u001b[0;34m,\u001b[0m \u001b[0mhistorical_data\u001b[0m\u001b[0;34m[\u001b[0m\u001b[0;34m'Sell_Signal_price'\u001b[0m\u001b[0;34m]\u001b[0m \u001b[0;34m=\u001b[0m \u001b[0mbuy_sell\u001b[0m\u001b[0;34m(\u001b[0m\u001b[0mhistorical_data\u001b[0m\u001b[0;34m)\u001b[0m\u001b[0;34m\u001b[0m\u001b[0;34m\u001b[0m\u001b[0m\n\u001b[1;32m      5\u001b[0m \u001b[0mhistorical_data\u001b[0m\u001b[0;34m\u001b[0m\u001b[0;34m\u001b[0m\u001b[0m\n",
            "\u001b[0;32m<ipython-input-55-72f7ceac592a>\u001b[0m in \u001b[0;36mbuy_sell\u001b[0;34m(historical_data)\u001b[0m\n\u001b[1;32m     10\u001b[0m     \u001b[0;32mfor\u001b[0m \u001b[0mi\u001b[0m \u001b[0;32min\u001b[0m \u001b[0mrange\u001b[0m\u001b[0;34m(\u001b[0m\u001b[0mlen\u001b[0m\u001b[0;34m(\u001b[0m\u001b[0mhistorical_data\u001b[0m\u001b[0;34m)\u001b[0m\u001b[0;34m)\u001b[0m\u001b[0;34m:\u001b[0m\u001b[0;34m\u001b[0m\u001b[0;34m\u001b[0m\u001b[0m\n\u001b[1;32m     11\u001b[0m         \u001b[0mprint\u001b[0m\u001b[0;34m(\u001b[0m\u001b[0mhistorical_data\u001b[0m\u001b[0;34m)\u001b[0m\u001b[0;34m\u001b[0m\u001b[0;34m\u001b[0m\u001b[0m\n\u001b[0;32m---> 12\u001b[0;31m         \u001b[0mprint\u001b[0m\u001b[0;34m(\u001b[0m\u001b[0mhistorical_data\u001b[0m\u001b[0;34m[\u001b[0m\u001b[0;34m'Adj Close'\u001b[0m\u001b[0;34m]\u001b[0m\u001b[0;34m)\u001b[0m\u001b[0;34m\u001b[0m\u001b[0;34m\u001b[0m\u001b[0m\n\u001b[0m\u001b[1;32m     13\u001b[0m         \u001b[0;32mif\u001b[0m \u001b[0mhistorical_data\u001b[0m\u001b[0;34m[\u001b[0m\u001b[0;34m'SMA 30'\u001b[0m\u001b[0;34m]\u001b[0m\u001b[0;34m[\u001b[0m\u001b[0mi\u001b[0m\u001b[0;34m]\u001b[0m \u001b[0;34m>\u001b[0m \u001b[0mhistorical_data\u001b[0m\u001b[0;34m[\u001b[0m\u001b[0;34m'SMA 100'\u001b[0m\u001b[0;34m]\u001b[0m\u001b[0;34m[\u001b[0m\u001b[0mi\u001b[0m\u001b[0;34m]\u001b[0m\u001b[0;34m:\u001b[0m\u001b[0;34m\u001b[0m\u001b[0;34m\u001b[0m\u001b[0m\n\u001b[1;32m     14\u001b[0m             \u001b[0;32mif\u001b[0m \u001b[0mposition\u001b[0m \u001b[0;34m==\u001b[0m \u001b[0;32mFalse\u001b[0m \u001b[0;34m:\u001b[0m\u001b[0;34m\u001b[0m\u001b[0;34m\u001b[0m\u001b[0m\n",
            "\u001b[0;32m/usr/local/lib/python3.8/dist-packages/pandas/core/frame.py\u001b[0m in \u001b[0;36m__getitem__\u001b[0;34m(self, key)\u001b[0m\n\u001b[1;32m   3456\u001b[0m             \u001b[0;32mif\u001b[0m \u001b[0mself\u001b[0m\u001b[0;34m.\u001b[0m\u001b[0mcolumns\u001b[0m\u001b[0;34m.\u001b[0m\u001b[0mnlevels\u001b[0m \u001b[0;34m>\u001b[0m \u001b[0;36m1\u001b[0m\u001b[0;34m:\u001b[0m\u001b[0;34m\u001b[0m\u001b[0;34m\u001b[0m\u001b[0m\n\u001b[1;32m   3457\u001b[0m                 \u001b[0;32mreturn\u001b[0m \u001b[0mself\u001b[0m\u001b[0;34m.\u001b[0m\u001b[0m_getitem_multilevel\u001b[0m\u001b[0;34m(\u001b[0m\u001b[0mkey\u001b[0m\u001b[0;34m)\u001b[0m\u001b[0;34m\u001b[0m\u001b[0;34m\u001b[0m\u001b[0m\n\u001b[0;32m-> 3458\u001b[0;31m             \u001b[0mindexer\u001b[0m \u001b[0;34m=\u001b[0m \u001b[0mself\u001b[0m\u001b[0;34m.\u001b[0m\u001b[0mcolumns\u001b[0m\u001b[0;34m.\u001b[0m\u001b[0mget_loc\u001b[0m\u001b[0;34m(\u001b[0m\u001b[0mkey\u001b[0m\u001b[0;34m)\u001b[0m\u001b[0;34m\u001b[0m\u001b[0;34m\u001b[0m\u001b[0m\n\u001b[0m\u001b[1;32m   3459\u001b[0m             \u001b[0;32mif\u001b[0m \u001b[0mis_integer\u001b[0m\u001b[0;34m(\u001b[0m\u001b[0mindexer\u001b[0m\u001b[0;34m)\u001b[0m\u001b[0;34m:\u001b[0m\u001b[0;34m\u001b[0m\u001b[0;34m\u001b[0m\u001b[0m\n\u001b[1;32m   3460\u001b[0m                 \u001b[0mindexer\u001b[0m \u001b[0;34m=\u001b[0m \u001b[0;34m[\u001b[0m\u001b[0mindexer\u001b[0m\u001b[0;34m]\u001b[0m\u001b[0;34m\u001b[0m\u001b[0;34m\u001b[0m\u001b[0m\n",
            "\u001b[0;32m/usr/local/lib/python3.8/dist-packages/pandas/core/indexes/base.py\u001b[0m in \u001b[0;36mget_loc\u001b[0;34m(self, key, method, tolerance)\u001b[0m\n\u001b[1;32m   3361\u001b[0m                 \u001b[0;32mreturn\u001b[0m \u001b[0mself\u001b[0m\u001b[0;34m.\u001b[0m\u001b[0m_engine\u001b[0m\u001b[0;34m.\u001b[0m\u001b[0mget_loc\u001b[0m\u001b[0;34m(\u001b[0m\u001b[0mcasted_key\u001b[0m\u001b[0;34m)\u001b[0m\u001b[0;34m\u001b[0m\u001b[0;34m\u001b[0m\u001b[0m\n\u001b[1;32m   3362\u001b[0m             \u001b[0;32mexcept\u001b[0m \u001b[0mKeyError\u001b[0m \u001b[0;32mas\u001b[0m \u001b[0merr\u001b[0m\u001b[0;34m:\u001b[0m\u001b[0;34m\u001b[0m\u001b[0;34m\u001b[0m\u001b[0m\n\u001b[0;32m-> 3363\u001b[0;31m                 \u001b[0;32mraise\u001b[0m \u001b[0mKeyError\u001b[0m\u001b[0;34m(\u001b[0m\u001b[0mkey\u001b[0m\u001b[0;34m)\u001b[0m \u001b[0;32mfrom\u001b[0m \u001b[0merr\u001b[0m\u001b[0;34m\u001b[0m\u001b[0;34m\u001b[0m\u001b[0m\n\u001b[0m\u001b[1;32m   3364\u001b[0m \u001b[0;34m\u001b[0m\u001b[0m\n\u001b[1;32m   3365\u001b[0m         \u001b[0;32mif\u001b[0m \u001b[0mis_scalar\u001b[0m\u001b[0;34m(\u001b[0m\u001b[0mkey\u001b[0m\u001b[0;34m)\u001b[0m \u001b[0;32mand\u001b[0m \u001b[0misna\u001b[0m\u001b[0;34m(\u001b[0m\u001b[0mkey\u001b[0m\u001b[0;34m)\u001b[0m \u001b[0;32mand\u001b[0m \u001b[0;32mnot\u001b[0m \u001b[0mself\u001b[0m\u001b[0;34m.\u001b[0m\u001b[0mhasnans\u001b[0m\u001b[0;34m:\u001b[0m\u001b[0;34m\u001b[0m\u001b[0;34m\u001b[0m\u001b[0m\n",
            "\u001b[0;31mKeyError\u001b[0m: 'Adj Close'"
          ]
        }
      ]
    },
    {
      "cell_type": "code",
      "source": [
        "fig, ax = plt.subplots(figsize=(14,8))\n",
        "ax.plot(historical_data['Adj Close'] , label = stocksymbols[0] ,linewidth=0.5, color='blue', alpha = 0.9)\n",
        "ax.plot(historical_data['SMA 30'], label = 'SMA30', alpha = 0.85)\n",
        "ax.plot(historical_data['SMA 100'], label = 'SMA100' , alpha = 0.85)\n",
        "ax.scatter(historical_data.index , historical_data['Buy_Signal_price'] , label = 'Buy' , marker = '^', color = 'green',alpha =1 )\n",
        "ax.scatter(historical_data.index , historical_data['Sell_Signal_price'] , label = 'Sell' , marker = 'v', color = 'red',alpha =1 )\n",
        "ax.set_title(stocksymbols[0] + \" Price History with buy and sell signals\",fontsize=10, backgroundcolor='blue', color='white')\n",
        "ax.set_xlabel(f'{start_date} - {end_date}' ,fontsize=18)\n",
        "ax.set_ylabel('Close Price INR (₨)' , fontsize=18)\n",
        "legend = ax.legend()\n",
        "ax.grid()\n",
        "plt.tight_layout()\n",
        "plt.show()"
      ],
      "metadata": {
        "id": "x2Lv8zOvLiYp"
      },
      "execution_count": null,
      "outputs": []
    }
  ]
}