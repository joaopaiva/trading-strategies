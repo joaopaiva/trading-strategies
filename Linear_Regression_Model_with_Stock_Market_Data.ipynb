{
  "nbformat": 4,
  "nbformat_minor": 0,
  "metadata": {
    "colab": {
      "provenance": [],
      "authorship_tag": "ABX9TyPHqqWTzjUsPSbSm5ApV1jO",
      "include_colab_link": true
    },
    "kernelspec": {
      "name": "python3",
      "display_name": "Python 3"
    },
    "language_info": {
      "name": "python"
    }
  },
  "cells": [
    {
      "cell_type": "markdown",
      "metadata": {
        "id": "view-in-github",
        "colab_type": "text"
      },
      "source": [
        "<a href=\"https://colab.research.google.com/github/joaopaiva/trading-strategies/blob/main/Linear_Regression_Model_with_Stock_Market_Data.ipynb\" target=\"_parent\"><img src=\"https://colab.research.google.com/assets/colab-badge.svg\" alt=\"Open In Colab\"/></a>"
      ]
    },
    {
      "cell_type": "code",
      "source": [
        "# suppress output\n",
        "%%capture\n",
        "!pip install yfinance pandas_ta"
      ],
      "metadata": {
        "id": "tF8oNXcA67pe"
      },
      "execution_count": 2,
      "outputs": []
    },
    {
      "cell_type": "code",
      "execution_count": 3,
      "metadata": {
        "colab": {
          "base_uri": "https://localhost:8080/",
          "height": 235
        },
        "id": "TI3rGqbI6pv1",
        "outputId": "4bd93197-be44-4962-dcf4-d9cca9966607"
      },
      "outputs": [
        {
          "output_type": "error",
          "ename": "NameError",
          "evalue": "ignored",
          "traceback": [
            "\u001b[0;31m---------------------------------------------------------------------------\u001b[0m",
            "\u001b[0;31mNameError\u001b[0m                                 Traceback (most recent call last)",
            "\u001b[0;32m<ipython-input-3-4e2aef203318>\u001b[0m in \u001b[0;36m<module>\u001b[0;34m\u001b[0m\n\u001b[1;32m      6\u001b[0m \u001b[0;34m\u001b[0m\u001b[0m\n\u001b[1;32m      7\u001b[0m \u001b[0mplt\u001b[0m\u001b[0;34m.\u001b[0m\u001b[0mstyle\u001b[0m\u001b[0;34m.\u001b[0m\u001b[0muse\u001b[0m\u001b[0;34m(\u001b[0m\u001b[0;34m'fivethirtyeight'\u001b[0m\u001b[0;34m)\u001b[0m\u001b[0;34m\u001b[0m\u001b[0;34m\u001b[0m\u001b[0m\n\u001b[0;32m----> 8\u001b[0;31m \u001b[0myf\u001b[0m\u001b[0;34m.\u001b[0m\u001b[0mpdr_override\u001b[0m\u001b[0;34m(\u001b[0m\u001b[0;34m)\u001b[0m\u001b[0;34m\u001b[0m\u001b[0;34m\u001b[0m\u001b[0m\n\u001b[0m\u001b[1;32m      9\u001b[0m \u001b[0;34m\u001b[0m\u001b[0m\n\u001b[1;32m     10\u001b[0m \u001b[0;31m# Define the ticker symbol and start and end dates\u001b[0m\u001b[0;34m\u001b[0m\u001b[0;34m\u001b[0m\u001b[0;34m\u001b[0m\u001b[0m\n",
            "\u001b[0;31mNameError\u001b[0m: name 'yf' is not defined"
          ]
        }
      ],
      "source": [
        "import pandas as pd\n",
        "import numpy as np\n",
        "import matplotlib.pyplot as plt\n",
        "from sklearn.linear_model import LinearRegression\n",
        "\n",
        "\n",
        "plt.style.use('fivethirtyeight')\n",
        "yf.pdr_override()\n",
        "\n",
        "# Define the ticker symbol and start and end dates\n",
        "stocksymbols = ['BNB-USD']\n",
        "# start_date = '2022-01-01'\n",
        "# end_date = '2022-02-18'\n",
        "start_date = datetime.today() - timedelta(days=6)\n",
        "start_date = start_date.strftime(\"%Y-%m-%d\")\n",
        "end_date = datetime.today()\n",
        "\n",
        "def getHistoricalData(stocks = stocksymbols ,start = start_date , end = end_date):\n",
        "    # Get the data for the ticker\n",
        "    ticker_data = yf.Ticker(stocksymbols[0])\n",
        "\n",
        "    # Get the historical prices for the ticker\n",
        "    data = ticker_data.history(start=start_date, end=end_date, interval='1m')\n",
        "\n",
        "    # data = web.get_data_yahoo(stocks , data_source='yahoo' , start = start ,end= end )\n",
        "    return data\n",
        "\n",
        "# Load historical stock data\n",
        "data = getHistoricalData(stocksymbols)\n",
        "\n",
        "# Extract the 'Close' column as the feature we want to predict\n",
        "X = data['Close'].values.reshape(-1, 1)\n",
        "\n",
        "# Create an array of integers representing the time period for each data point\n",
        "time = np.arange(0, len(data), 1).reshape(-1, 1)\n",
        "\n",
        "# Create a linear regression model\n",
        "model = LinearRegression()\n",
        "model.fit(time, X)\n",
        "\n",
        "# Use the model to make predictions for the next 30 days\n",
        "future_time = np.arange(len(data), len(data)+30, 1).reshape(-1, 1)\n",
        "future_X = model.predict(future_time)\n",
        "\n",
        "# Plot the historical data and predicted future values\n",
        "plt.plot(time, X, label='Historical Data')\n",
        "plt.plot(future_time, future_X, label='Predicted Future Values')\n",
        "plt.xlabel('Time')\n",
        "plt.ylabel('Stock Price')\n",
        "plt.title('Stock Price Prediction')\n",
        "plt.legend()\n",
        "plt.show()"
      ]
    }
  ]
}