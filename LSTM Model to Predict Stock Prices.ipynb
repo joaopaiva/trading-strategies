{
  "nbformat": 4,
  "nbformat_minor": 0,
  "metadata": {
    "colab": {
      "provenance": [],
      "authorship_tag": "ABX9TyPmEQW/3abOCWudblr+KsWt",
      "include_colab_link": true
    },
    "kernelspec": {
      "name": "python3",
      "display_name": "Python 3"
    },
    "language_info": {
      "name": "python"
    }
  },
  "cells": [
    {
      "cell_type": "markdown",
      "metadata": {
        "id": "view-in-github",
        "colab_type": "text"
      },
      "source": [
        "<a href=\"https://colab.research.google.com/github/joaopaiva/trading-strategies/blob/main/LSTM%20Model%20to%20Predict%20Stock%20Prices.ipynb\" target=\"_parent\"><img src=\"https://colab.research.google.com/assets/colab-badge.svg\" alt=\"Open In Colab\"/></a>"
      ]
    },
    {
      "cell_type": "code",
      "source": [
        "# suppress output\n",
        "%%capture\n",
        "!pip install yfinance pandas_ta"
      ],
      "metadata": {
        "id": "tF8oNXcA67pe"
      },
      "execution_count": null,
      "outputs": []
    },
    {
      "cell_type": "code",
      "execution_count": null,
      "metadata": {
        "id": "TI3rGqbI6pv1"
      },
      "outputs": [],
      "source": [
        "import pandas as pd\n",
        "import numpy as np\n",
        "import yfinance as yf\n",
        "from datetime import datetime, date, time, timedelta\n",
        "from sklearn.preprocessing import MinMaxScaler\n",
        "from keras.models import Sequential\n",
        "from keras.layers import Dense, LSTM\n",
        "import matplotlib.pyplot as plt\n",
        "\n",
        "plt.style.use('fivethirtyeight')\n",
        "yf.pdr_override()\n",
        "\n",
        "# Define the ticker symbol and start and end dates\n",
        "stocksymbols = ['BNB-USD']\n",
        "# start_date = '2022-01-01'\n",
        "# end_date = '2022-02-18'\n",
        "start_date = datetime.today() - timedelta(days=6)\n",
        "start_date = start_date.strftime(\"%Y-%m-%d\")\n",
        "end_date = datetime.today()\n",
        "\n",
        "def getHistoricalData(stocks = stocksymbols ,start = start_date , end = end_date):\n",
        "    # Get the data for the ticker\n",
        "    ticker_data = yf.Ticker(stocksymbols[0])\n",
        "\n",
        "    # Get the historical prices for the ticker\n",
        "    data = ticker_data.history(start=start_date, end=end_date, interval='1m')\n",
        "\n",
        "    # data = web.get_data_yahoo(stocks , data_source='yahoo' , start = start ,end= end )\n",
        "    return data"
      ]
    },
    {
      "cell_type": "code",
      "source": [
        "async def create_ltsm_model(df):\n",
        "  # Preprocess the data\n",
        "  data = df.filter(['Close']).values\n",
        "  training_data_len = int(np.ceil(len(data) * 0.8))\n",
        "  scaler = MinMaxScaler(feature_range=(0,1))\n",
        "  scaled_data = scaler.fit_transform(data)\n",
        "\n",
        "  # Create the training data set\n",
        "  train_data = scaled_data[0:training_data_len, :]\n",
        "  x_train = []\n",
        "  y_train = []\n",
        "  for i in range(60, len(train_data)):\n",
        "      x_train.append(train_data[i-60:i, 0])\n",
        "      y_train.append(train_data[i, 0])\n",
        "  x_train, y_train = np.array(x_train), np.array(y_train)\n",
        "  x_train = np.reshape(x_train, (x_train.shape[0], x_train.shape[1], 1))\n",
        "\n",
        "  # Build the LSTM model\n",
        "  model = Sequential()\n",
        "  model.add(LSTM(50, return_sequences=True, input_shape=(x_train.shape[1], 1)))\n",
        "  model.add(LSTM(50, return_sequences=False))\n",
        "  model.add(Dense(25))\n",
        "  model.add(Dense(1))\n",
        "\n",
        "  # Compile the model\n",
        "  model.compile(optimizer='adam', loss='mean_squared_error')\n",
        "\n",
        "  # Train the model\n",
        "  model.fit(x_train, y_train, batch_size=1, epochs=1)\n",
        "\n",
        "  # Create the testing data set\n",
        "  test_data = scaled_data[training_data_len - 60:, :]\n",
        "  x_test = []\n",
        "  y_test = data[training_data_len:, :]\n",
        "  for i in range(60, len(test_data)):\n",
        "      x_test.append(test_data[i-60:i, 0])\n",
        "  x_test = np.array(x_test)\n",
        "  x_test = np.reshape(x_test, (x_test.shape[0], x_test.shape[1], 1))\n",
        "\n",
        "  # Make predictions\n",
        "  predictions = model.predict(x_test)\n",
        "  predictions = scaler.inverse_transform(predictions)\n"
      ],
      "metadata": {
        "id": "oflTeyMTJvHQ"
      },
      "execution_count": null,
      "outputs": []
    },
    {
      "cell_type": "code",
      "source": [
        "# Load historical stock data\n",
        "data = getHistoricalData(stocksymbols)"
      ],
      "metadata": {
        "id": "f72Mp70CJz8W"
      },
      "execution_count": null,
      "outputs": []
    }
  ]
}